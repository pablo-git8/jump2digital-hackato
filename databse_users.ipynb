{
 "cells": [
  {
   "cell_type": "code",
   "execution_count": null,
   "metadata": {},
   "outputs": [],
   "source": [
    "# Imports\n",
    "import random\n",
    "import pandas as pd\n",
    "import math\n",
    "import os\n",
    "from supabase import create_client"
   ]
  },
  {
   "cell_type": "markdown",
   "metadata": {},
   "source": [
    "## Database Connection"
   ]
  },
  {
   "cell_type": "code",
   "execution_count": null,
   "metadata": {},
   "outputs": [],
   "source": [
    "supabase_url = os.environ.get('URL_J2D')\n",
    "supabase_key = os.environ.get('SUPA_KEY_J2D')\n",
    "\n",
    "supabase = create_client(supabase_url, supabase_key)"
   ]
  },
  {
   "cell_type": "markdown",
   "metadata": {},
   "source": [
    "## Monuments Positions"
   ]
  },
  {
   "cell_type": "code",
   "execution_count": null,
   "metadata": {},
   "outputs": [],
   "source": [
    "monu_pos = pd.read_csv(\"puntos_bnc.csv\", \n",
    "                       names=['id', 'title', 'lat', 'lon', 'description', 'url'], \n",
    "                       header=0)"
   ]
  },
  {
   "cell_type": "markdown",
   "metadata": {},
   "source": [
    "Monuments DB Update"
   ]
  },
  {
   "cell_type": "code",
   "execution_count": null,
   "metadata": {},
   "outputs": [],
   "source": [
    "# Update monument's data \n",
    "for row in monu_pos:\n",
    "   response = supabase.table(\"monument\").upsert(row, on_conflict=\"id\").execute()"
   ]
  },
  {
   "cell_type": "markdown",
   "metadata": {},
   "source": [
    "## Initial User Positions"
   ]
  },
  {
   "cell_type": "code",
   "execution_count": null,
   "metadata": {},
   "outputs": [],
   "source": [
    "'''\n",
    "NE = (41.353727, 2.061600)  # Northeast\n",
    "NW = (41.412755, 2.223006)  # Northwest\n",
    "SE = (41.387520, 2.082303)  # Southeast\n",
    "SW = (41.458157, 2.182716)  # Southwest\n",
    "\n",
    "def generate_random_point(NE, NW, SE, SW):\n",
    "    min_lat = min(NW[0], SW[0])\n",
    "    max_lat = max(NE[0], SE[0])\n",
    "    min_lon = min(SW[1], SE[1])\n",
    "    max_lon = max(NW[1], NE[1])\n",
    "\n",
    "    lat = random.uniform(min_lat, max_lat)\n",
    "    lon = random.uniform(min_lon, max_lon)\n",
    "\n",
    "    return {'lat': lat, 'lon': lon}\n",
    "\n",
    "# Generating initial positions and creating a DataFrame\n",
    "user_init_pos_df = pd.DataFrame([generate_random_point(NE, NW, SE, SW) for _ in range(100)])\n",
    "user_init_pos_df.reset_index(inplace=True)\n",
    "user_init_pos_df.rename(columns={'index': 'id'}, inplace=True)\n",
    "\n",
    "# Converting DataFrame to a list of dictionaries\n",
    "user_init_pos = user_init_pos_df.to_dict('records')\n",
    "'''\n"
   ]
  },
  {
   "cell_type": "code",
   "execution_count": null,
   "metadata": {},
   "outputs": [],
   "source": [
    "a = (41.375715, 2.090579) #(41.339365, 2.101318)\n",
    "b = (41.452426, 2.226904) #(41.448274, 2.198499)\n",
    "\n",
    "def generate_random_point(a, b):\n",
    "\n",
    "    lat = random.uniform(a[0], b[0])\n",
    "    lon = random.uniform(a[1], b[1])\n",
    "\n",
    "    return {'lat': lat, 'lon': lon}\n",
    "\n",
    "user_init_pos_df = pd.DataFrame([generate_random_point(a, b) for _ in range(500)])\n",
    "user_init_pos_df.reset_index(inplace=True)\n",
    "user_init_pos_df.rename(columns={'index': 'id'}, inplace=True)\n",
    "\n",
    "# Converting DataFrame to a list of dictionaries\n",
    "user_init_pos = user_init_pos_df.to_dict('records')"
   ]
  },
  {
   "cell_type": "markdown",
   "metadata": {},
   "source": [
    "Users Initial Position DB Update"
   ]
  },
  {
   "cell_type": "code",
   "execution_count": null,
   "metadata": {},
   "outputs": [],
   "source": [
    "# Update user's data for initial positions\n",
    "for row in user_init_pos:\n",
    "   response = supabase.table(\"user\").upsert(row, on_conflict=\"id\").execute()"
   ]
  },
  {
   "cell_type": "markdown",
   "metadata": {},
   "source": [
    "## Generate Random Movements"
   ]
  },
  {
   "cell_type": "code",
   "execution_count": null,
   "metadata": {},
   "outputs": [],
   "source": [
    "#NW = (41.458157, 2.182716) #NE, (41.451398, 2.182092)\n",
    "#SE = (41.353727, 2.061600) #SW, (41.365285, 2.076672)\n",
    "#NE = (41.387520, 2.082303) #NW, (41.305722, 2.136167)\n",
    "#SW = (41.412755, 2.223006) #SE, (41.410313, 2.224887)\n",
    "\n",
    "a = (41.375715, 2.090579) #(41.339365, 2.101318)\n",
    "b = (41.452426, 2.226904) #(41.448274, 2.198499)\n",
    "\n",
    "# Run each 10 seconds to deply in databse\n",
    "def is_point_within_area(point, a, b):\n",
    "\n",
    "    lat, lon = point\n",
    "    return (a[0] <= lat <= b[0]) and (a[1] <= lon <= b[1])\n",
    "\n",
    "\n",
    "def generate_new_point(current_position, distance=417):  # distance in meters\n",
    "    # 1 degree latitude is approximately 111 kilometers\n",
    "    # 1 degree longitude varies based on latitude, but will use an average for simplicity\n",
    "    lat_dist = distance / 111000  \n",
    "    lon_dist = distance / (111000 * math.cos(math.radians(current_position[0])))\n",
    "\n",
    "    new_lat = current_position[0] + random.uniform(-lat_dist, lat_dist)\n",
    "    new_lon = current_position[1] + random.uniform(-lon_dist, lon_dist)\n",
    "\n",
    "    return (new_lat, new_lon) if is_point_within_area((new_lat, new_lon), a, b) else current_position\n",
    "\n",
    "\n",
    "def simulate_movement(row):\n",
    "\n",
    "    new_position = generate_new_point((row['lat'], row['lon']))\n",
    "    return pd.Series({'lat': new_position[0], 'lon': new_position[1]})"
   ]
  },
  {
   "cell_type": "code",
   "execution_count": null,
   "metadata": {},
   "outputs": [],
   "source": [
    "user_mov_df = user_init_pos_df.apply(simulate_movement, axis=1).reset_index()\n",
    "user_mov_df.columns = ['id', 'lat', 'lon']\n",
    "user_mov_pos = user_mov_df.to_dict('records')"
   ]
  },
  {
   "cell_type": "markdown",
   "metadata": {},
   "source": [
    "Users Random Position DB Update"
   ]
  },
  {
   "cell_type": "code",
   "execution_count": null,
   "metadata": {},
   "outputs": [],
   "source": [
    "# Update data with random movements\n",
    "for row in user_mov_pos:\n",
    "   response = supabase.table(\"user\").upsert(row, on_conflict=\"id\").execute()"
   ]
  }
 ],
 "metadata": {
  "kernelspec": {
   "display_name": "python311",
   "language": "python",
   "name": "python3"
  },
  "language_info": {
   "codemirror_mode": {
    "name": "ipython",
    "version": 3
   },
   "file_extension": ".py",
   "mimetype": "text/x-python",
   "name": "python",
   "nbconvert_exporter": "python",
   "pygments_lexer": "ipython3",
   "version": "3.11.4"
  }
 },
 "nbformat": 4,
 "nbformat_minor": 2
}
